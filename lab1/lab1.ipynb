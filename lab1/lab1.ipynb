{
  "nbformat": 4,
  "nbformat_minor": 0,
  "metadata": {
    "colab": {
      "provenance": []
    },
    "kernelspec": {
      "name": "python3",
      "display_name": "Python 3"
    },
    "language_info": {
      "name": "python"
    }
  },
  "cells": [
    {
      "cell_type": "code",
      "source": [
        "import numpy as np"
      ],
      "metadata": {
        "id": "NUQAG1Bwk8-w"
      },
      "execution_count": 96,
      "outputs": []
    },
    {
      "cell_type": "code",
      "source": [
        "def swapRows(matrix, i, j):\n",
        "    currentMatrix = matrix.copy()\n",
        "    currentMatrix[[i, j]] = currentMatrix[[j, i]]\n",
        "    return currentMatrix\n",
        "def xorRowsInMatrix(matrix, firstRowIndex, secondRowIndex):\n",
        "    currentMatrix = matrix.copy()\n",
        "    currentMatrix[secondRowIndex] = np.logical_xor(currentMatrix[firstRowIndex], currentMatrix[secondRowIndex])\n",
        "    return currentMatrix\n"
      ],
      "metadata": {
        "id": "nhTKQAgMlL15"
      },
      "execution_count": 97,
      "outputs": []
    },
    {
      "cell_type": "markdown",
      "source": [
        "1.1. Реализовать функцию REF(), приводящую матрицу к\n",
        "ступенчатому виду."
      ],
      "metadata": {
        "id": "c1msdrSsbD7B"
      }
    },
    {
      "cell_type": "code",
      "execution_count": 98,
      "metadata": {
        "id": "MMFGYJAsk1ms"
      },
      "outputs": [],
      "source": [
        "def ref(inputMatrix):\n",
        "    matrix = inputMatrix.copy()\n",
        "    rows = matrix.shape[0]\n",
        "    columns = matrix.shape[1]\n",
        "\n",
        "    # Find and moving lead row\n",
        "    indexForNextPositionOfLeadRow = 0\n",
        "    indexColumnOfLeadingElement = -1\n",
        "    while (True):\n",
        "        isMoveLeadRow = False\n",
        "        for i in range(indexColumnOfLeadingElement + 1, columns):\n",
        "            for j in range(indexForNextPositionOfLeadRow, rows):\n",
        "                if matrix[j][i]:\n",
        "                    matrix = swapRows(matrix, indexForNextPositionOfLeadRow, j)\n",
        "                    indexForNextPositionOfLeadRow += 1\n",
        "                    indexColumnOfLeadingElement = i\n",
        "                    isMoveLeadRow = True\n",
        "                    break\n",
        "            if (isMoveLeadRow):\n",
        "                break\n",
        "        if not isMoveLeadRow:\n",
        "            return matrix[0: indexForNextPositionOfLeadRow]\n",
        "\n",
        "        # Making xor with rows\n",
        "        for j in range(indexForNextPositionOfLeadRow, rows):\n",
        "            if matrix[j][indexColumnOfLeadingElement]:\n",
        "                matrix = xorRowsInMatrix(matrix, indexForNextPositionOfLeadRow - 1, j)\n"
      ]
    },
    {
      "cell_type": "code",
      "source": [
        "matrix1 = np.array([[True, False, True, True, False, False, False, True, False, False, True],\n",
        "                        [False, False, False, True, True, True, False, True, False, True, False],\n",
        "                        [False, False, False, False, True, False, False, True, False, False, True],\n",
        "                        [True, False, True, False, True, True, True, False, False, False, False],\n",
        "                        [False, False, False, False, True, False, False, True, True, True, False],\n",
        "                        [True, False, True, True, True, False, False, False, False, False, False]]\n",
        "                        )\n",
        "print(ref(matrix1))"
      ],
      "metadata": {
        "colab": {
          "base_uri": "https://localhost:8080/"
        },
        "id": "S-puYmhmlEIB",
        "outputId": "c8c06bfe-93ff-47dc-c1d3-cf0c75746c50"
      },
      "execution_count": 99,
      "outputs": [
        {
          "output_type": "stream",
          "name": "stdout",
          "text": [
            "[[ True False  True  True False False False  True False False  True]\n",
            " [False False False  True  True  True False  True False  True False]\n",
            " [False False False False  True False False  True False False  True]\n",
            " [False False False False False False  True False False  True  True]\n",
            " [False False False False False False False False  True  True  True]]\n"
          ]
        }
      ]
    },
    {
      "cell_type": "markdown",
      "source": [
        "Реализовать функцию RREF(), приводящую матрицу к\n",
        "приведённому ступенчатому виду.\n"
      ],
      "metadata": {
        "id": "5mOiK7WQbI_x"
      }
    },
    {
      "cell_type": "code",
      "source": [
        "def rref(inputMatrix):\n",
        "    matrix = inputMatrix.copy()\n",
        "    matrix = ref(matrix)\n",
        "    rows = matrix.shape[0]\n",
        "    columns = matrix.shape[1]\n",
        "\n",
        "    for i in range(rows):\n",
        "        for j in range(columns):\n",
        "            if matrix[i][j]:\n",
        "                for k in range(i):\n",
        "                    if matrix[k][j]:\n",
        "                        matrix = xorRowsInMatrix(matrix, i, k)\n",
        "                break\n",
        "    return matrix\n"
      ],
      "metadata": {
        "id": "boRMz2GFlAWq"
      },
      "execution_count": 100,
      "outputs": []
    },
    {
      "cell_type": "code",
      "source": [
        "print(rref(matrix1))"
      ],
      "metadata": {
        "colab": {
          "base_uri": "https://localhost:8080/"
        },
        "id": "3zjSMC9IlXbv",
        "outputId": "edd132d0-81be-4df5-da24-01cc6448db84"
      },
      "execution_count": 101,
      "outputs": [
        {
          "output_type": "stream",
          "name": "stdout",
          "text": [
            "[[ True False  True False False  True False  True False  True False]\n",
            " [False False False  True False  True False False False  True  True]\n",
            " [False False False False  True False False  True False False  True]\n",
            " [False False False False False False  True False False  True  True]\n",
            " [False False False False False False False False  True  True  True]]\n"
          ]
        }
      ]
    },
    {
      "cell_type": "code",
      "source": [
        "def getLeadIndexes(refMatrix):\n",
        "    matrix = refMatrix.copy()\n",
        "    rows = matrix.shape[0]\n",
        "    columns = matrix.shape[1]\n",
        "\n",
        "    leadIndexes = []\n",
        "    for i in range(rows):\n",
        "        for j in range(columns):\n",
        "            if matrix[i][j]:\n",
        "                leadIndexes.append(j)\n",
        "                break\n",
        "    return leadIndexes\n",
        "\n"
      ],
      "metadata": {
        "id": "RBwQizOqvTUd"
      },
      "execution_count": 102,
      "outputs": []
    },
    {
      "cell_type": "code",
      "source": [
        "print(matrix1.shape[0])\n",
        "print(matrix1.shape[1])"
      ],
      "metadata": {
        "colab": {
          "base_uri": "https://localhost:8080/"
        },
        "id": "5Pp1bUyivUaZ",
        "outputId": "b053b059-a59e-4119-f7e2-2e440cc2abc0"
      },
      "execution_count": 103,
      "outputs": [
        {
          "output_type": "stream",
          "name": "stdout",
          "text": [
            "6\n",
            "11\n"
          ]
        }
      ]
    },
    {
      "cell_type": "markdown",
      "source": [
        "**1.3.3 Сформировать проверочную матрицу на основе порождающей.**\n",
        "**Для этого выполнить следующие шаги.**\n",
        "\n",
        "\n",
        "**Шаг 1. Сформировать матрицу G**\n",
        "\n",
        "∗ в приведённом ступенчатом виде\n",
        "\n",
        "на основе порождающей.\n",
        "Тестовый пример (Шаг 1):"
      ],
      "metadata": {
        "id": "QNwhGmo9wQZD"
      }
    },
    {
      "cell_type": "code",
      "source": [
        "G = np.array([[1, 0, 1, 1, 0, 0, 0, 1, 0, 0, 1],\n",
        "              [0, 0, 0, 1, 1, 1, 0, 1, 0, 1, 0],\n",
        "              [0, 0, 0, 0, 1, 0, 0, 1, 0, 0, 1],\n",
        "              [0, 0, 0, 0, 0, 0, 1, 0, 0, 1, 0],\n",
        "              [0, 0, 0, 0, 0, 0, 0, 0, 1, 1, 1]])\n",
        "G_star = rref(G)\n",
        "print(\"G* = \\n\", G_star)"
      ],
      "metadata": {
        "colab": {
          "base_uri": "https://localhost:8080/"
        },
        "id": "qDFXx7hAvpsa",
        "outputId": "348f5c88-1ea2-4312-ed93-9e19bce23077"
      },
      "execution_count": 104,
      "outputs": [
        {
          "output_type": "stream",
          "name": "stdout",
          "text": [
            "G* = \n",
            " [[1 0 1 0 0 1 0 1 0 1 0]\n",
            " [0 0 0 1 0 1 0 0 0 1 1]\n",
            " [0 0 0 0 1 0 0 1 0 0 1]\n",
            " [0 0 0 0 0 0 1 0 0 1 0]\n",
            " [0 0 0 0 0 0 0 0 1 1 1]]\n"
          ]
        }
      ]
    },
    {
      "cell_type": "markdown",
      "source": [
        "Шаг 2. Зафиксировать ведущие столбцы lead матрицы G\n",
        "∗"
      ],
      "metadata": {
        "id": "kpWVObjDwfat"
      }
    },
    {
      "cell_type": "code",
      "source": [
        "def getLeadIndexes(refMatrix):\n",
        "    matrix = refMatrix.copy()\n",
        "    rows = matrix.shape[0]\n",
        "    columns = matrix.shape[1]\n",
        "\n",
        "    leadIndexes = []\n",
        "    for i in range(rows):\n",
        "        for j in range(columns):\n",
        "            if matrix[i][j]:\n",
        "                leadIndexes.append(j)\n",
        "                break\n",
        "    return leadIndexes"
      ],
      "metadata": {
        "id": "RyqOdBswwiFn"
      },
      "execution_count": 105,
      "outputs": []
    },
    {
      "cell_type": "code",
      "source": [
        "lead = getLeadIndexes(G_star)\n",
        "print('lead = ',lead)"
      ],
      "metadata": {
        "colab": {
          "base_uri": "https://localhost:8080/"
        },
        "id": "iOLNfn7lwmPn",
        "outputId": "1c8ee119-2a79-4f77-caec-235678b9e738"
      },
      "execution_count": 106,
      "outputs": [
        {
          "output_type": "stream",
          "name": "stdout",
          "text": [
            "lead =  [0, 3, 4, 6, 8]\n"
          ]
        }
      ]
    },
    {
      "cell_type": "markdown",
      "source": [
        "Шаг 3. Сформировать сокращённую матрицу X, удалив ведущие\n",
        "столбцы матрицы G\n",
        "∗\n",
        "."
      ],
      "metadata": {
        "id": "Z7T_xlEmwt4x"
      }
    },
    {
      "cell_type": "code",
      "source": [
        "def getAbbreviatedMatrix(matrix, lead):\n",
        "    return np.delete(matrix, lead, axis=1)"
      ],
      "metadata": {
        "id": "C21oGU7PwvDv"
      },
      "execution_count": 107,
      "outputs": []
    },
    {
      "cell_type": "code",
      "source": [
        "X = getAbbreviatedMatrix(G_star, lead)\n",
        "print('X = \\n',X)"
      ],
      "metadata": {
        "colab": {
          "base_uri": "https://localhost:8080/"
        },
        "id": "58_QAK9kwzzc",
        "outputId": "a7420ce7-6d20-4ce8-b22c-ce8dc808869b"
      },
      "execution_count": 108,
      "outputs": [
        {
          "output_type": "stream",
          "name": "stdout",
          "text": [
            "X = \n",
            " [[0 1 1 1 1 0]\n",
            " [0 0 1 0 1 1]\n",
            " [0 0 0 1 0 1]\n",
            " [0 0 0 0 1 0]\n",
            " [0 0 0 0 1 1]]\n"
          ]
        }
      ]
    },
    {
      "cell_type": "markdown",
      "source": [
        "Шаг 4. Сформировать матрицу H, поместив в строки,\n",
        "соответствующие позициям ведущих столбцов строки из X, а в\n",
        "остальные – строки единичной матрицы."
      ],
      "metadata": {
        "id": "bpL-_gKzWKUf"
      }
    },
    {
      "cell_type": "code",
      "source": [
        "def step4(refMatrix, leadIndexes):\n",
        "    matrix = refMatrix.copy()\n",
        "    rows = matrix.shape[0]\n",
        "    print(rows)\n",
        "    columns = matrix.shape[1]\n",
        "    eye = np.eye(columns)\n",
        "    resultMatrix = np.zeros((columns + rows, columns))\n",
        "    matrixRowIndex = 0\n",
        "    eyeRowIndex = 0\n",
        "    for i in range(resultMatrix.shape[0]):\n",
        "        if i in leadIndexes:\n",
        "            resultMatrix[i] = matrix[matrixRowIndex]\n",
        "            matrixRowIndex += 1\n",
        "        else:\n",
        "            resultMatrix[i] = eye[eyeRowIndex]\n",
        "            eyeRowIndex += 1\n",
        "    return resultMatrix"
      ],
      "metadata": {
        "id": "TymUf2FBTrlZ"
      },
      "execution_count": 111,
      "outputs": []
    },
    {
      "cell_type": "code",
      "source": [
        "H = step4(X, lead)\n",
        "print(step4(X, lead))"
      ],
      "metadata": {
        "colab": {
          "base_uri": "https://localhost:8080/"
        },
        "id": "Y1DytYVxWJp1",
        "outputId": "5a916360-3901-4457-9857-f390c33e95bb"
      },
      "execution_count": 125,
      "outputs": [
        {
          "output_type": "stream",
          "name": "stdout",
          "text": [
            "5\n",
            "5\n",
            "[[0. 1. 1. 1. 1. 0.]\n",
            " [1. 0. 0. 0. 0. 0.]\n",
            " [0. 1. 0. 0. 0. 0.]\n",
            " [0. 0. 1. 0. 1. 1.]\n",
            " [0. 0. 0. 1. 0. 1.]\n",
            " [0. 0. 1. 0. 0. 0.]\n",
            " [0. 0. 0. 0. 1. 0.]\n",
            " [0. 0. 0. 1. 0. 0.]\n",
            " [0. 0. 0. 0. 1. 1.]\n",
            " [0. 0. 0. 0. 1. 0.]\n",
            " [0. 0. 0. 0. 0. 1.]]\n"
          ]
        }
      ]
    },
    {
      "cell_type": "markdown",
      "source": [
        "1.4. Сформировать все кодовые слова длины n двумя способами.\n",
        "\n",
        "1.4.1 Сложить все слова из порождающего множества, оставить\n",
        "неповторяющиеся."
      ],
      "metadata": {
        "id": "k_4nZX2kaNu7"
      }
    },
    {
      "cell_type": "code",
      "source": [
        "u = [1, 0, 1, 1, 0]\n",
        "print(\"u = \", u)\n",
        "v = np.dot(u,G) % 2\n",
        "print(\"v = u@G = \", v)\n",
        "print(\"v@H = \", np.dot(v,H) % 2)\n",
        "\n",
        "e1 = [0, 0, 1, 0, 0, 0, 0, 0, 0, 0, 0]\n",
        "print(\"\\n\\ne1 =\", e1)\n",
        "print(\"v + e1 =\",(v + e1) % 2)\n",
        "print(\"(v + e1)@H =\",np.dot(((v + e1) % 2),H) % 2)"
      ],
      "metadata": {
        "colab": {
          "base_uri": "https://localhost:8080/"
        },
        "id": "rgsmRu9iaP47",
        "outputId": "107f4915-4c57-4ac9-bfc3-5310e4f798d7"
      },
      "execution_count": 134,
      "outputs": [
        {
          "output_type": "stream",
          "name": "stdout",
          "text": [
            "u =  [1, 0, 1, 1, 0]\n",
            "v = u@G =  [1 0 1 1 1 0 1 0 0 1 0]\n",
            "v@H =  [0. 0. 0. 0. 0. 0.]\n",
            "\n",
            "\n",
            "e1 = [0, 0, 1, 0, 0, 0, 0, 0, 0, 0, 0]\n",
            "v + e1 = [1 0 0 1 1 0 1 0 0 1 0]\n",
            "(v + e1)@H = [0. 1. 0. 0. 0. 0.]\n"
          ]
        }
      ]
    },
    {
      "cell_type": "code",
      "source": [
        "# Шаг 1: Вычисляем минимальное расстояние (d)\n",
        "# Создаем список для хранения всех возможных пар различных кодовых слов\n",
        "distances = []\n",
        "n = 11\n",
        "k = 5\n",
        "\n",
        "print(G)\n",
        "\n",
        "# Перебираем все пары различных кодовых слов и вычисляем расстояния\n",
        "for i in range(k):\n",
        "    for j in range(i + 1, k):\n",
        "        word1 = G[i]\n",
        "        word2 = G[j]\n",
        "\n",
        "        distance = np.sum(np.abs(word1 - word2))\n",
        "        distances.append(distance)\n",
        "\n",
        "# Минимальное расстояние (d) равно минимальному значению из списка distances\n",
        "d = min(distances)\n",
        "\n",
        "# Шаг 2: Определяем кратность обнаруживаемой ошибки (t)\n",
        "t = (d - 1) // 2\n",
        "\n",
        "# Вывод результатов\n",
        "print(\"Кодовое расстояние (d):\", d)\n",
        "print(\"Кратность обнаруживаемой ошибки (t):\", t)"
      ],
      "metadata": {
        "colab": {
          "base_uri": "https://localhost:8080/"
        },
        "id": "SszrH-vqiguV",
        "outputId": "adff7380-2f8c-45c1-89dc-2950b5c3cbdc"
      },
      "execution_count": 146,
      "outputs": [
        {
          "output_type": "stream",
          "name": "stdout",
          "text": [
            "[[1 0 1 1 0 0 0 1 0 0 1]\n",
            " [0 0 0 1 1 1 0 1 0 1 0]\n",
            " [0 0 0 0 1 0 0 1 0 0 1]\n",
            " [0 0 0 0 0 0 1 0 0 1 0]\n",
            " [0 0 0 0 0 0 0 0 1 1 1]]\n",
            "Кодовое расстояние (d): 3\n",
            "Кратность обнаруживаемой ошибки (t): 1\n"
          ]
        }
      ]
    }
  ]
}