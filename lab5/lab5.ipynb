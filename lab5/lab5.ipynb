{
 "cells": [
  {
   "cell_type": "markdown",
   "metadata": {},
   "source": [
    "Лабораторная работа 4. \n",
    " \n",
    "Часть 1 \n",
    " \n",
    "4.1 Написать функцию формирования порождающей матрицы кода Рида-\n",
    "Маллера (r,m) в каноническом виде для произвольно заданных r и m."
   ]
  },
  {
   "cell_type": "code",
   "execution_count": 2,
   "metadata": {},
   "outputs": [
    {
     "ename": "ModuleNotFoundError",
     "evalue": "No module named 'numpy'",
     "output_type": "error",
     "traceback": [
      "\u001b[1;31m---------------------------------------------------------------------------\u001b[0m",
      "\u001b[1;31mModuleNotFoundError\u001b[0m                       Traceback (most recent call last)",
      "\u001b[1;32mc:\\Users\\Evgen\\coding-theory-labs\\lab5\\lab5.ipynb Cell 2\u001b[0m line \u001b[0;36m1\n\u001b[1;32m----> <a href='vscode-notebook-cell:/c%3A/Users/Evgen/coding-theory-labs/lab5/lab5.ipynb#W2sZmlsZQ%3D%3D?line=0'>1</a>\u001b[0m \u001b[39mimport\u001b[39;00m \u001b[39mnumpy\u001b[39;00m \u001b[39mas\u001b[39;00m \u001b[39mnp\u001b[39;00m\n\u001b[0;32m      <a href='vscode-notebook-cell:/c%3A/Users/Evgen/coding-theory-labs/lab5/lab5.ipynb#W2sZmlsZQ%3D%3D?line=2'>3</a>\u001b[0m \u001b[39mdef\u001b[39;00m \u001b[39mreed_muller_generator_matrix\u001b[39m(r, m):\n\u001b[0;32m      <a href='vscode-notebook-cell:/c%3A/Users/Evgen/coding-theory-labs/lab5/lab5.ipynb#W2sZmlsZQ%3D%3D?line=3'>4</a>\u001b[0m     \u001b[39mif\u001b[39;00m r \u001b[39m==\u001b[39m \u001b[39m0\u001b[39m:\n",
      "\u001b[1;31mModuleNotFoundError\u001b[0m: No module named 'numpy'"
     ]
    }
   ],
   "source": [
    "import numpy as np\n",
    "\n",
    "def reed_muller_generator_matrix(r, m):\n",
    "    if r == 0:\n",
    "        return np.array([[1]])\n",
    "    \n",
    "    if m == 1:\n",
    "        return np.array([[1], [-1]])\n",
    "\n",
    "    prev_matrix = reed_muller_generator_matrix(r - 1, m - 1)\n",
    "    \n",
    "    upper_matrix = np.kron(np.eye(2**(m-1)), prev_matrix)\n",
    "    lower_matrix = np.kron(np.array([[1, 1], [1, -1]]), np.eye(2**(m-1)))\n",
    "\n",
    "    return np.vstack((upper_matrix, lower_matrix))\n",
    "\n",
    "r = 2  # Порядок кода Рида-Маллера\n",
    "m = 3  # Количество переменных\n",
    "\n",
    "generator_matrix = reed_muller_generator_matrix(r, m)\n",
    "print(generator_matrix)\n"
   ]
  }
 ],
 "metadata": {
  "kernelspec": {
   "display_name": "Python 3",
   "language": "python",
   "name": "python3"
  },
  "language_info": {
   "codemirror_mode": {
    "name": "ipython",
    "version": 3
   },
   "file_extension": ".py",
   "mimetype": "text/x-python",
   "name": "python",
   "nbconvert_exporter": "python",
   "pygments_lexer": "ipython3",
   "version": "3.10.11"
  }
 },
 "nbformat": 4,
 "nbformat_minor": 2
}
