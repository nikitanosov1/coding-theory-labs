{
  "cells": [
    {
      "cell_type": "code",
      "execution_count": 90,
      "metadata": {
        "id": "sTbNgruriZMW"
      },
      "outputs": [],
      "source": [
        "import numpy as np"
      ]
    },
    {
      "cell_type": "markdown",
      "metadata": {
        "id": "SHwurQSEjLlF"
      },
      "source": [
        "**Лабораторная работа №3**\n",
        "\n",
        "3.1 Написать функцию формирования порождающей и проверочной\n",
        "матриц кода Хэмминга (2^r − 1, 2^r − r − 1, 3) на основе параметра r,\n",
        "\n",
        "а также таблицы синдромов для всех однократных ошибок."
      ]
    },
    {
      "cell_type": "code",
      "execution_count": 91,
      "metadata": {
        "colab": {
          "base_uri": "https://localhost:8080/"
        },
        "id": "0zrASBcQjUWo",
        "outputId": "ec814bb3-08bf-476d-a2c4-51b0dd9cc750"
      },
      "outputs": [
        {
          "name": "stdout",
          "output_type": "stream",
          "text": [
            "G = \n",
            " [[1 0 0 0 1 1 1]\n",
            " [0 1 0 0 1 0 0]\n",
            " [0 0 1 0 0 1 0]\n",
            " [0 0 0 1 1 1 0]]\n",
            "H = \n",
            " [[1. 1. 1.]\n",
            " [1. 0. 0.]\n",
            " [0. 1. 0.]\n",
            " [1. 1. 0.]\n",
            " [1. 0. 0.]\n",
            " [0. 1. 0.]\n",
            " [0. 0. 1.]]\n"
          ]
        }
      ],
      "source": [
        "r = 3\n",
        "n = 2**r - 1  # Длина кодового слова\n",
        "k = n - r  # Количество информационных символов\n",
        "\n",
        "# Создание матрицы P с первой строкой из единиц\n",
        "X = np.zeros((k, r), dtype=int)\n",
        "\n",
        "# Затем создайте оставшиеся строки матрицы P в соответствии с кодом Хэмминга\n",
        "for i in range(r):\n",
        "    for j in range(k):\n",
        "        if (j >> i) & 1:  # Проверяем, установлен ли i-й бит в j-м индексе\n",
        "            X[j, i] = 1\n",
        "X[0, :] = 1\n",
        "# Создание единичной матрицы I_k\n",
        "I_k = np.eye(k, dtype=int)\n",
        "\n",
        "# Порождающая матрица G\n",
        "G = np.hstack((I_k, X))\n",
        "\n",
        "print('G = \\n', G)\n",
        "H = np.vstack((X, np.eye(n-k)))\n",
        "print('H = \\n',H)\n"
      ]
    },
    {
      "cell_type": "code",
      "execution_count": 92,
      "metadata": {},
      "outputs": [
        {
          "name": "stdout",
          "output_type": "stream",
          "text": [
            "Синдром: (1.0, 1.0, 1.0) Ошибка: (1.0, 0.0, 0.0, 0.0, 0.0, 0.0, 0.0)\n",
            "Синдром: (1.0, 0.0, 0.0) Ошибка: (0.0, 0.0, 0.0, 0.0, 1.0, 0.0, 0.0)\n",
            "Синдром: (0.0, 1.0, 0.0) Ошибка: (0.0, 0.0, 0.0, 0.0, 0.0, 1.0, 0.0)\n",
            "Синдром: (1.0, 1.0, 0.0) Ошибка: (0.0, 0.0, 0.0, 1.0, 0.0, 0.0, 0.0)\n",
            "Синдром: (0.0, 0.0, 1.0) Ошибка: (0.0, 0.0, 0.0, 0.0, 0.0, 0.0, 1.0)\n"
          ]
        }
      ],
      "source": [
        "# Создаем таблицу синдромов\n",
        "syndrome_map = {}\n",
        "\n",
        "# Перебираем все возможные однократные ошибки\n",
        "for i in range(H.shape[0]):\n",
        "    error = np.zeros(H.shape[0])\n",
        "    error[i] = 1\n",
        "    \n",
        "    # Вычисляем синдром для данной ошибки\n",
        "    syndrome = np.dot(error, H) % 2\n",
        "    \n",
        "    # Добавляем синдром в таблицу\n",
        "    syndrome_map[tuple(syndrome)] = tuple(error)\n",
        "\n",
        "# Выводим таблицу синдромов\n",
        "for syndrome, error in syndrome_map.items():\n",
        "    print(f\"Синдром: {syndrome} Ошибка: {error}\")"
      ]
    },
    {
      "cell_type": "markdown",
      "metadata": {
        "id": "JYMMWwo7oGiV"
      },
      "source": [
        "3.2 Провести  исследование  кода  Хэмминга  для  одно-,  двух- и\n",
        "трёхкратных ошибок для 𝒓=𝟐,𝟑,𝟒"
      ]
    },
    {
      "cell_type": "code",
      "execution_count": 93,
      "metadata": {
        "colab": {
          "base_uri": "https://localhost:8080/"
        },
        "id": "rrfwShXOoUeg",
        "outputId": "a8c69e5d-c7f1-47e6-bd54-3b870d831a9b"
      },
      "outputs": [
        {
          "name": "stdout",
          "output_type": "stream",
          "text": [
            "[1. 1. 1.]\n",
            "Ошибку успешно исправлено.\n",
            "Исходное кодовое слово: [1. 0. 0. 0. 1. 1. 1.]\n",
            "Кодовое слово с ошибкой: [0. 0. 0. 0. 1. 1. 1.]\n",
            "Исправленное кодовое слово: [1. 0. 0. 0. 1. 1. 1.]\n"
          ]
        }
      ],
      "source": [
        "word = np.zeros(G.shape[0])\n",
        "word[0] = 1\n",
        "# word = np.array([1, 0, 0, 1])\n",
        "\n",
        "\n",
        "# Формируем кодовое слово длины n\n",
        "code_word = np.dot(word, G) % 2\n",
        "\n",
        "# Вносим однократную ошибку\n",
        "error_index = 0  # Индекс бита, в который вносим ошибку\n",
        "code_word_with_error = code_word.copy()\n",
        "code_word_with_error[error_index] = (code_word_with_error[error_index] + 1) % 2\n",
        "\n",
        "# Вычисляем синдром\n",
        "syndrome = np.dot(code_word_with_error, H) % 2\n",
        "print(syndrome)\n",
        "# Исправляем ошибку, используя таблицу синдромов\n",
        "corrected_code_word = None\n",
        "if tuple(syndrome) in syndrome_map:\n",
        "    corrected_code_word = code_word_with_error.copy()\n",
        "    for i, bit in enumerate(syndrome_map[tuple(syndrome)]):\n",
        "        corrected_code_word[i] = (corrected_code_word[i] + bit) % 2\n",
        "else:\n",
        "    print(\"Ошибка не может быть исправлена.\")\n",
        "\n",
        "# Убеждаемся в правильности полученного слова\n",
        "if np.array_equal(code_word, corrected_code_word):\n",
        "    print(\"Ошибку успешно исправлено.\")\n",
        "else:\n",
        "    print(\"Ошибка не была исправлена.\")\n",
        "\n",
        "print(\"Исходное кодовое слово:\", code_word)\n",
        "print(\"Кодовое слово с ошибкой:\", code_word_with_error)\n",
        "print(\"Исправленное кодовое слово:\", corrected_code_word)"
      ]
    },
    {
      "cell_type": "markdown",
      "metadata": {},
      "source": [
        "Проверка для двухкратных ошибок"
      ]
    },
    {
      "cell_type": "code",
      "execution_count": 94,
      "metadata": {
        "colab": {
          "base_uri": "https://localhost:8080/"
        },
        "id": "yiueuc-uoaEv",
        "outputId": "8d847ee9-a3ca-494a-deb2-09bd489b280f"
      },
      "outputs": [
        {
          "name": "stdout",
          "output_type": "stream",
          "text": [
            "[1. 1. 0.]\n",
            "Ошибка не была исправлена.\n",
            "Исходное кодовое слово: [1. 0. 0. 0. 1. 1. 1.]\n",
            "Кодовое слово с ошибкой: [1. 1. 1. 0. 1. 1. 1.]\n",
            "Исправленное кодовое слово: [1. 1. 1. 1. 1. 1. 1.]\n"
          ]
        }
      ],
      "source": [
        "# Формируем кодовое слово длины n\n",
        "code_word = np.dot(word, G) % 2\n",
        "\n",
        "# Вносим двухкратную ошибку\n",
        "error_index_1 = 1  # Индекс первого бита, в который вносим ошибку\n",
        "error_index_2 = 2  # Индекс второго бита, в который вносим ошибку\n",
        "code_word_with_error = code_word.copy()\n",
        "code_word_with_error[error_index_1] = (code_word_with_error[error_index_1] + 1) % 2\n",
        "code_word_with_error[error_index_2] = (code_word_with_error[error_index_2] + 1) % 2\n",
        "\n",
        "# Вычисляем синдром\n",
        "syndrome = np.dot(code_word_with_error, H) % 2\n",
        "print(syndrome)\n",
        "# Исправляем ошибку, используя таблицу синдромов\n",
        "corrected_code_word = None\n",
        "if tuple(syndrome) in syndrome_map:\n",
        "    corrected_code_word = code_word_with_error.copy()\n",
        "    for i, bit in enumerate(syndrome_map[tuple(syndrome)]):\n",
        "        corrected_code_word[i] = (corrected_code_word[i] + bit) % 2\n",
        "else:\n",
        "    print(\"Ошибка не может быть исправлена.\")\n",
        "\n",
        "# Убеждаемся в правильности полученного слова\n",
        "if np.array_equal(code_word, corrected_code_word):\n",
        "    print(\"Ошибку успешно исправлено.\")\n",
        "else:\n",
        "    print(\"Ошибка не была исправлена.\")\n",
        "\n",
        "print(\"Исходное кодовое слово:\", code_word)\n",
        "print(\"Кодовое слово с ошибкой:\", code_word_with_error)\n",
        "print(\"Исправленное кодовое слово:\", corrected_code_word)"
      ]
    },
    {
      "cell_type": "markdown",
      "metadata": {},
      "source": [
        "Проверка для трёхкратных ошибок"
      ]
    },
    {
      "cell_type": "code",
      "execution_count": 95,
      "metadata": {
        "colab": {
          "base_uri": "https://localhost:8080/"
        },
        "id": "nghLVwErobVa",
        "outputId": "780d737f-0ca9-4115-d550-bb2a3a9efa56"
      },
      "outputs": [
        {
          "name": "stdout",
          "output_type": "stream",
          "text": [
            "[0. 1. 1.]\n",
            "Ошибка не может быть исправлена.\n",
            "Ошибка не была исправлена.\n",
            "Исходное кодовое слово: [1. 0. 0. 0. 1. 1. 1.]\n",
            "Кодовое слово с ошибкой: [0. 1. 0. 0. 1. 1. 1.]\n",
            "Исправленное кодовое слово: None\n"
          ]
        }
      ],
      "source": [
        "\n",
        "# Формируем кодовое слово длины n\n",
        "code_word = np.dot(word, G) % 2\n",
        "\n",
        "# Вносим двухкратную ошибку\n",
        "error_index_1 = 0  # Индекс первого бита, в который вносим ошибку\n",
        "error_index_2 = 1  # Индекс второго бита, в который вносим ошибку\n",
        "error_index_3 = 2 # Индекс третьего бита, в который вносим ошибку\n",
        "code_word_with_error = code_word.copy()\n",
        "code_word_with_error[error_index_1] = (code_word_with_error[error_index_1] + 1) % 2\n",
        "code_word_with_error[error_index_2] = (code_word_with_error[error_index_2] + 1) % 2\n",
        "code_word_with_error[error_index_3] = (code_word_with_error[error_index_2] + 1) % 2\n",
        "\n",
        "# Вычисляем синдром\n",
        "syndrome = np.dot(code_word_with_error, H) % 2\n",
        "print(syndrome)\n",
        "# Исправляем ошибку, используя таблицу синдромов\n",
        "corrected_code_word = None\n",
        "if tuple(syndrome) in syndrome_map:\n",
        "    corrected_code_word = code_word_with_error.copy()\n",
        "    for i, bit in enumerate(syndrome_map[tuple(syndrome)]):\n",
        "        corrected_code_word[i] = (corrected_code_word[i] + bit) % 2\n",
        "else:\n",
        "    print(\"Ошибка не может быть исправлена.\")\n",
        "\n",
        "# Убеждаемся в правильности полученного слова\n",
        "if np.array_equal(code_word, corrected_code_word):\n",
        "    print(\"Ошибку успешно исправлено.\")\n",
        "else:\n",
        "    print(\"Ошибка не была исправлена.\")\n",
        "\n",
        "print(\"Исходное кодовое слово:\", code_word)\n",
        "print(\"Кодовое слово с ошибкой:\", code_word_with_error)\n",
        "print(\"Исправленное кодовое слово:\", corrected_code_word)"
      ]
    },
    {
      "cell_type": "markdown",
      "metadata": {
        "id": "aTJaksZarA8j"
      },
      "source": [
        "3.3 Написать функцию формирования порождающей и проверочной\n",
        "матриц расширенного кода Хэмминга (𝟐𝒓,𝟐𝒓 −𝒓−𝟏,𝟑)  на основе\n",
        "параметра 𝒓, а также таблицы синдромов для всех однократных\n",
        "ошибок"
      ]
    },
    {
      "cell_type": "code",
      "execution_count": 96,
      "metadata": {
        "colab": {
          "base_uri": "https://localhost:8080/"
        },
        "id": "oR5JubbituY4",
        "outputId": "397e5f1f-cb6a-4cc6-e1f5-a26add23be94"
      },
      "outputs": [
        {
          "name": "stdout",
          "output_type": "stream",
          "text": [
            "H* = \n",
            " [[1. 1. 1. 1.]\n",
            " [1. 0. 0. 1.]\n",
            " [0. 1. 0. 1.]\n",
            " [1. 1. 0. 1.]\n",
            " [1. 0. 0. 1.]\n",
            " [0. 1. 0. 1.]\n",
            " [0. 0. 1. 1.]\n",
            " [0. 0. 0. 1.]]\n",
            "sum =  [4, 2, 2, 3]\n",
            "G* = \n",
            " [[1 0 0 0 1 1 1 0]\n",
            " [0 1 0 0 1 0 0 0]\n",
            " [0 0 1 0 0 1 0 0]\n",
            " [0 0 0 1 1 1 0 1]]\n"
          ]
        }
      ],
      "source": [
        "zeros_row = np.zeros((1, H.shape[1]))\n",
        "\n",
        "H_zeros = np.vstack((H, zeros_row))\n",
        "\n",
        "ones_column = np.ones((H_zeros.shape[0], 1))\n",
        "\n",
        "H_Star = np.hstack((H_zeros, ones_column))\n",
        "print('H* = \\n',H_Star)\n",
        "\n",
        "sums = []\n",
        "\n",
        "# Перебираем каждую строку в матрице\n",
        "for row in G:\n",
        "    # Вычисляем сумму элементов в строке и добавляем её в список сумм\n",
        "    row_sum = sum(row)\n",
        "    sums.append(row_sum)\n",
        "\n",
        "print(\"sum = \", sums)\n",
        "\n",
        "b = [1 if num % 2 != 0 else 0 for num in sums]\n",
        "\n",
        "G_Star = np.column_stack((G, b))\n",
        "\n",
        "print(\"G* = \\n\", G_Star)"
      ]
    },
    {
      "cell_type": "markdown",
      "metadata": {},
      "source": [
        "Таблица синдромов для расширенных матриц Хэмминга"
      ]
    },
    {
      "cell_type": "code",
      "execution_count": 97,
      "metadata": {},
      "outputs": [
        {
          "name": "stdout",
          "output_type": "stream",
          "text": [
            "Синдром: (1.0, 1.0, 1.0, 1.0) Ошибка: (1.0, 0.0, 0.0, 0.0, 0.0, 0.0, 0.0, 0.0)\n",
            "Синдром: (1.0, 0.0, 0.0, 1.0) Ошибка: (0.0, 0.0, 0.0, 0.0, 1.0, 0.0, 0.0, 0.0)\n",
            "Синдром: (0.0, 1.0, 0.0, 1.0) Ошибка: (0.0, 0.0, 0.0, 0.0, 0.0, 1.0, 0.0, 0.0)\n",
            "Синдром: (1.0, 1.0, 0.0, 1.0) Ошибка: (0.0, 0.0, 0.0, 1.0, 0.0, 0.0, 0.0, 0.0)\n",
            "Синдром: (0.0, 0.0, 1.0, 1.0) Ошибка: (0.0, 0.0, 0.0, 0.0, 0.0, 0.0, 1.0, 0.0)\n",
            "Синдром: (0.0, 0.0, 0.0, 1.0) Ошибка: (0.0, 0.0, 0.0, 0.0, 0.0, 0.0, 0.0, 1.0)\n"
          ]
        }
      ],
      "source": [
        "# Создаем таблицу синдромов\n",
        "extended_syndrome_map = {}\n",
        "\n",
        "# Перебираем все возможные однократные ошибки\n",
        "for i in range(H_Star.shape[0]):\n",
        "    error = np.zeros(H_Star.shape[0])\n",
        "    error[i] = 1\n",
        "    \n",
        "    # Вычисляем синдром для данной ошибки\n",
        "    syndrome = np.dot(error, H_Star) % 2\n",
        "    \n",
        "    # Добавляем синдром в таблицу\n",
        "    extended_syndrome_map[tuple(syndrome)] = tuple(error)\n",
        "\n",
        "# Выводим таблицу синдромов\n",
        "for syndrome, error in extended_syndrome_map.items():\n",
        "    print(f\"Синдром: {syndrome} Ошибка: {error}\")"
      ]
    },
    {
      "cell_type": "markdown",
      "metadata": {
        "id": "nlVmtPam6qdm"
      },
      "source": [
        "Провести исследование расширенного кода Хэмминга для одно-,\n",
        "двух-, трёх- и четырёхкратных ошибок для 𝒓=𝟐,𝟑,𝟒."
      ]
    },
    {
      "cell_type": "code",
      "execution_count": 98,
      "metadata": {
        "colab": {
          "base_uri": "https://localhost:8080/"
        },
        "id": "hKVhc_aH6xIm",
        "outputId": "8f9f51c8-e375-44ab-cce3-26f1ce106e3f"
      },
      "outputs": [
        {
          "name": "stdout",
          "output_type": "stream",
          "text": [
            "[1. 1. 1. 1.]\n",
            "Ошибку успешно исправлено.\n",
            "Исходное кодовое слово: [1. 0. 0. 0. 1. 1. 1. 0.]\n",
            "Кодовое слово с ошибкой: [0. 0. 0. 0. 1. 1. 1. 0.]\n",
            "Исправленное кодовое слово: [1. 0. 0. 0. 1. 1. 1. 0.]\n"
          ]
        }
      ],
      "source": [
        "word = np.zeros(G_Star.shape[0])\n",
        "word[0] = 1\n",
        "# Формируем кодовое слово длины n\n",
        "code_word = np.dot(word, G_Star) % 2\n",
        "\n",
        "# Вносим однократную ошибку\n",
        "error_index = 0  # Индекс бита, в который вносим ошибку\n",
        "code_word_with_error = code_word.copy()\n",
        "code_word_with_error[error_index] = (code_word_with_error[error_index] + 1) % 2\n",
        "\n",
        "# Вычисляем синдром\n",
        "syndrome = np.dot(code_word_with_error, H_Star) % 2\n",
        "print(syndrome)\n",
        "# Исправляем ошибку, используя таблицу синдромов\n",
        "corrected_code_word = None\n",
        "if tuple(syndrome) in extended_syndrome_map:\n",
        "    corrected_code_word = code_word_with_error.copy()\n",
        "    for i, bit in enumerate(extended_syndrome_map[tuple(syndrome)]):\n",
        "        corrected_code_word[i] = (corrected_code_word[i] + bit) % 2\n",
        "else:\n",
        "    print(\"Ошибка не может быть исправлена.\")\n",
        "\n",
        "# Убеждаемся в правильности полученного слова\n",
        "if np.array_equal(code_word, corrected_code_word):\n",
        "    print(\"Ошибку успешно исправлено.\")\n",
        "else:\n",
        "    print(\"Ошибка не была исправлена.\")\n",
        "\n",
        "print(\"Исходное кодовое слово:\", code_word)\n",
        "print(\"Кодовое слово с ошибкой:\", code_word_with_error)\n",
        "print(\"Исправленное кодовое слово:\", corrected_code_word)"
      ]
    },
    {
      "cell_type": "markdown",
      "metadata": {},
      "source": [
        "Проверка для двухкратных ошибок"
      ]
    },
    {
      "cell_type": "code",
      "execution_count": 99,
      "metadata": {
        "colab": {
          "base_uri": "https://localhost:8080/"
        },
        "id": "0VqykKO-6_7y",
        "outputId": "60b7b445-d436-4a2d-ff33-40f3c181cc51"
      },
      "outputs": [
        {
          "name": "stdout",
          "output_type": "stream",
          "text": [
            "[0. 1. 1. 0.]\n",
            "Ошибка не может быть исправлена.\n",
            "Ошибка не была исправлена.\n",
            "Исходное кодовое слово: [1. 0. 0. 0. 1. 1. 1. 0.]\n",
            "Кодовое слово с ошибкой: [0. 1. 0. 0. 1. 1. 1. 0.]\n",
            "Исправленное кодовое слово: None\n"
          ]
        }
      ],
      "source": [
        "# Формируем кодовое слово длины n\n",
        "code_word = np.dot(word, G_Star) % 2\n",
        "\n",
        "# Вносим двухкратную ошибку\n",
        "error_index_1 = 0  # Индекс первого бита, в который вносим ошибку\n",
        "error_index_2 = 1  # Индекс второго бита, в который вносим ошибку\n",
        "code_word_with_error = code_word.copy()\n",
        "code_word_with_error[error_index_1] = (code_word_with_error[error_index_1] + 1) % 2\n",
        "code_word_with_error[error_index_2] = (code_word_with_error[error_index_2] + 1) % 2\n",
        "\n",
        "# Вычисляем синдром\n",
        "syndrome = np.dot(code_word_with_error, H_Star) % 2\n",
        "print(syndrome)\n",
        "# Исправляем ошибку, используя таблицу синдромов\n",
        "corrected_code_word = None\n",
        "if tuple(syndrome) in extended_syndrome_map:\n",
        "    corrected_code_word = code_word_with_error.copy()\n",
        "    for i, bit in enumerate(extended_syndrome_map[tuple(syndrome)]):\n",
        "        corrected_code_word[i] = (corrected_code_word[i] + bit) % 2\n",
        "else:\n",
        "    print(\"Ошибка не может быть исправлена.\")\n",
        "\n",
        "# Убеждаемся в правильности полученного слова\n",
        "if np.array_equal(code_word, corrected_code_word):\n",
        "    print(\"Ошибку успешно исправлено.\")\n",
        "else:\n",
        "    print(\"Ошибка не была исправлена.\")\n",
        "\n",
        "print(\"Исходное кодовое слово:\", code_word)\n",
        "print(\"Кодовое слово с ошибкой:\", code_word_with_error)\n",
        "print(\"Исправленное кодовое слово:\", corrected_code_word)"
      ]
    },
    {
      "cell_type": "markdown",
      "metadata": {},
      "source": [
        "Проверка для трёхкратных ошибок"
      ]
    },
    {
      "cell_type": "code",
      "execution_count": 100,
      "metadata": {
        "colab": {
          "base_uri": "https://localhost:8080/"
        },
        "id": "u5Ne1RTN7Cb-",
        "outputId": "80690443-e995-4f40-afaa-ec1a55890974"
      },
      "outputs": [
        {
          "name": "stdout",
          "output_type": "stream",
          "text": [
            "[0. 1. 1. 0.]\n",
            "Ошибка не может быть исправлена.\n",
            "Ошибка не была исправлена.\n",
            "Исходное кодовое слово: [1. 0. 0. 0. 1. 1. 1. 0.]\n",
            "Кодовое слово с ошибкой: [0. 1. 0. 0. 1. 1. 1. 0.]\n",
            "Исправленное кодовое слово: None\n"
          ]
        }
      ],
      "source": [
        "# Формируем кодовое слово длины n\n",
        "code_word = np.dot(word, G_Star) % 2\n",
        "\n",
        "# Вносим двухкратную ошибку\n",
        "error_index_1 = 0  # Индекс первого бита, в который вносим ошибку\n",
        "error_index_2 = 1  # Индекс второго бита, в который вносим ошибку\n",
        "error_index_3 = 2 # Индекс третьего бита, в который вносим ошибку\n",
        "code_word_with_error = code_word.copy()\n",
        "code_word_with_error[error_index_1] = (code_word_with_error[error_index_1] + 1) % 2\n",
        "code_word_with_error[error_index_2] = (code_word_with_error[error_index_2] + 1) % 2\n",
        "code_word_with_error[error_index_3] = (code_word_with_error[error_index_2] + 1) % 2\n",
        "\n",
        "# Вычисляем синдром\n",
        "syndrome = np.dot(code_word_with_error, H_Star) % 2\n",
        "print(syndrome)\n",
        "# Исправляем ошибку, используя таблицу синдромов\n",
        "corrected_code_word = None\n",
        "if tuple(syndrome) in extended_syndrome_map:\n",
        "    corrected_code_word = code_word_with_error.copy()\n",
        "    for i, bit in enumerate(extended_syndrome_map[tuple(syndrome)]):\n",
        "        corrected_code_word[i] = (corrected_code_word[i] + bit) % 2\n",
        "else:\n",
        "    print(\"Ошибка не может быть исправлена.\")\n",
        "\n",
        "# Убеждаемся в правильности полученного слова\n",
        "if np.array_equal(code_word, corrected_code_word):\n",
        "    print(\"Ошибку успешно исправлено.\")\n",
        "else:\n",
        "    print(\"Ошибка не была исправлена.\")\n",
        "\n",
        "print(\"Исходное кодовое слово:\", code_word)\n",
        "print(\"Кодовое слово с ошибкой:\", code_word_with_error)\n",
        "print(\"Исправленное кодовое слово:\", corrected_code_word)"
      ]
    }
  ],
  "metadata": {
    "colab": {
      "provenance": []
    },
    "kernelspec": {
      "display_name": "Python 3",
      "name": "python3"
    },
    "language_info": {
      "codemirror_mode": {
        "name": "ipython",
        "version": 3
      },
      "file_extension": ".py",
      "mimetype": "text/x-python",
      "name": "python",
      "nbconvert_exporter": "python",
      "pygments_lexer": "ipython3",
      "version": "3.10.2"
    }
  },
  "nbformat": 4,
  "nbformat_minor": 0
}
