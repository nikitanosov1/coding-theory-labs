{
 "cells": [
  {
   "cell_type": "code",
   "execution_count": 1,
   "metadata": {},
   "outputs": [],
   "source": [
    "import numpy as np"
   ]
  },
  {
   "cell_type": "code",
   "execution_count": 2,
   "metadata": {},
   "outputs": [],
   "source": [
    "def swapRows(matrix, i, j):\n",
    "    currentMatrix = matrix.copy()\n",
    "    currentMatrix[[i, j]] = currentMatrix[[j, i]]\n",
    "    return currentMatrix\n",
    "def xorRowsInMatrix(matrix, firstRowIndex, secondRowIndex):\n",
    "    currentMatrix = matrix.copy()\n",
    "    currentMatrix[secondRowIndex] = np.logical_xor(currentMatrix[firstRowIndex], currentMatrix[secondRowIndex])\n",
    "    return currentMatrix\n",
    "\n",
    "def getLeadIndexes(refMatrix):\n",
    "    matrix = refMatrix.copy()\n",
    "    rows = matrix.shape[0]\n",
    "    columns = matrix.shape[1]\n",
    "\n",
    "    leadIndexes = []\n",
    "    for i in range(rows):\n",
    "        for j in range(columns):\n",
    "            if matrix[i][j]:\n",
    "                leadIndexes.append(j)\n",
    "                break\n",
    "    return leadIndexes\n",
    "\n",
    "def ref(inputMatrix):\n",
    "    matrix = inputMatrix.copy()\n",
    "    rows = matrix.shape[0]\n",
    "    columns = matrix.shape[1]\n",
    "\n",
    "    # Find and moving lead row\n",
    "    indexForNextPositionOfLeadRow = 0\n",
    "    indexColumnOfLeadingElement = -1\n",
    "    while (True):\n",
    "        isMoveLeadRow = False\n",
    "        for i in range(indexColumnOfLeadingElement + 1, columns):\n",
    "            for j in range(indexForNextPositionOfLeadRow, rows):\n",
    "                if matrix[j][i]:\n",
    "                    matrix = swapRows(matrix, indexForNextPositionOfLeadRow, j)\n",
    "                    indexForNextPositionOfLeadRow += 1\n",
    "                    indexColumnOfLeadingElement = i\n",
    "                    isMoveLeadRow = True\n",
    "                    break\n",
    "            if (isMoveLeadRow):\n",
    "                break\n",
    "        if not isMoveLeadRow:\n",
    "            return matrix[0: indexForNextPositionOfLeadRow]\n",
    "\n",
    "        # Making xor with rows\n",
    "        for j in range(indexForNextPositionOfLeadRow, rows):\n",
    "            if matrix[j][indexColumnOfLeadingElement]:\n",
    "                matrix = xorRowsInMatrix(matrix, indexForNextPositionOfLeadRow - 1, j)\n",
    "\n",
    "\n",
    "def rref(inputMatrix):\n",
    "    matrix = inputMatrix.copy()\n",
    "    matrix = ref(matrix)\n",
    "    rows = matrix.shape[0]\n",
    "    columns = matrix.shape[1]\n",
    "\n",
    "    for i in range(rows):\n",
    "        for j in range(columns):\n",
    "            if matrix[i][j]:\n",
    "                for k in range(i):\n",
    "                    if matrix[k][j]:\n",
    "                        matrix = xorRowsInMatrix(matrix, i, k)\n",
    "                break\n",
    "    return matrix"
   ]
  },
  {
   "cell_type": "markdown",
   "metadata": {},
   "source": [
    "2.1. Сформировать порождающую матрицу линейного кода (7, 4, 3).  \n",
    "Подсказка 1: Матрица формируется в виде: \n",
    "𝐺 =[𝐼𝑘|𝑋]. \n",
    "Подсказка 2: \n",
    "Чтобы d было равно трём, необходимо, чтобы в каждой строке матрицы-\n",
    "дополнения X  было не меньше двух единиц, при этом не было двух \n",
    "повторяющихся строк."
   ]
  },
  {
   "cell_type": "code",
   "execution_count": 3,
   "metadata": {},
   "outputs": [
    {
     "name": "stdout",
     "output_type": "stream",
     "text": [
      "G =\n",
      " [[1. 0. 0. 0. 1. 1. 0.]\n",
      " [0. 1. 0. 0. 1. 0. 1.]\n",
      " [0. 0. 1. 0. 0. 1. 1.]\n",
      " [0. 0. 0. 1. 1. 1. 1.]]\n"
     ]
    }
   ],
   "source": [
    "# Если 𝐶имеет длину 𝑛, расстояние 𝑑 и размерность 𝑘, будем \n",
    "# обозначать такой код как линейный код  𝑛,𝑘,𝑑 . Эти три \n",
    "# параметра в полной мере характеризуют линейный код\n",
    "\n",
    "# В нашем случае n=7 k=4 d=3\n",
    "# I_k - это единичная матрица k на k\n",
    "# X - это матрица-дополнения размерности k на n-k\n",
    "\n",
    "I_4 = np.eye(4)\n",
    "X = np.array([[1, 1, 0],\n",
    "              [1, 0, 1],\n",
    "              [0, 1, 1],\n",
    "              [1, 1, 1]])\n",
    "\n",
    "# Так как она и так уже ступенчатая, то ref от нее брать не нужно\n",
    "G = np.hstack((I_4, X))\n",
    "\n",
    "print(\"G =\\n\", G)"
   ]
  },
  {
   "cell_type": "markdown",
   "metadata": {},
   "source": [
    "2.2 Сформировать проверочную матрицу на основе порождающей.  \n",
    "Подсказка 3: Проверочная матрица будет иметь вид\n",
    "![Alt text](image.png)"
   ]
  },
  {
   "cell_type": "code",
   "execution_count": 4,
   "metadata": {},
   "outputs": [
    {
     "name": "stdout",
     "output_type": "stream",
     "text": [
      "H= \n",
      " [[1. 1. 0.]\n",
      " [1. 0. 1.]\n",
      " [0. 1. 1.]\n",
      " [1. 1. 1.]\n",
      " [1. 0. 0.]\n",
      " [0. 1. 0.]\n",
      " [0. 0. 1.]]\n"
     ]
    }
   ],
   "source": [
    "I_3 = np.eye(3)\n",
    "# Ааналогично нет смысла тянуть код из первой лабы\n",
    "H = np.vstack((X, I_3))\n",
    "\n",
    "print('H= \\n', H)"
   ]
  },
  {
   "cell_type": "markdown",
   "metadata": {},
   "source": [
    "2.3 Сформировать  таблицу  синдромов  для  всех  однократных \n",
    "ошибок."
   ]
  },
  {
   "cell_type": "code",
   "execution_count": 5,
   "metadata": {},
   "outputs": [
    {
     "name": "stdout",
     "output_type": "stream",
     "text": [
      "Ошибка: (1.0, 1.0, 0.0)  Синдром: (1.0, 0.0, 0.0, 0.0, 0.0, 0.0, 0.0)\n",
      "Ошибка: (1.0, 0.0, 1.0)  Синдром: (0.0, 1.0, 0.0, 0.0, 0.0, 0.0, 0.0)\n",
      "Ошибка: (0.0, 1.0, 1.0)  Синдром: (0.0, 0.0, 1.0, 0.0, 0.0, 0.0, 0.0)\n",
      "Ошибка: (1.0, 1.0, 1.0)  Синдром: (0.0, 0.0, 0.0, 1.0, 0.0, 0.0, 0.0)\n",
      "Ошибка: (1.0, 0.0, 0.0)  Синдром: (0.0, 0.0, 0.0, 0.0, 1.0, 0.0, 0.0)\n",
      "Ошибка: (0.0, 1.0, 0.0)  Синдром: (0.0, 0.0, 0.0, 0.0, 0.0, 1.0, 0.0)\n",
      "Ошибка: (0.0, 0.0, 1.0)  Синдром: (0.0, 0.0, 0.0, 0.0, 0.0, 0.0, 1.0)\n"
     ]
    }
   ],
   "source": [
    "# Создаем таблицу синдромов\n",
    "syndrome_map = {}\n",
    "\n",
    "# Перебираем все возможные однократные ошибки\n",
    "for i in range(7):\n",
    "    error = np.zeros(7)\n",
    "    error[i] = 1\n",
    "    \n",
    "    # Вычисляем синдром для данной ошибки\n",
    "    syndrome = np.dot(error, H) % 2\n",
    "    \n",
    "    # Добавляем синдром в таблицу\n",
    "    syndrome_map[tuple(syndrome)] = tuple(error)\n",
    "\n",
    "# Выводим таблицу синдромов\n",
    "for error, syndrome in syndrome_map.items():\n",
    "    print(f\"Ошибка: {error}  Синдром: {syndrome}\")"
   ]
  },
  {
   "cell_type": "markdown",
   "metadata": {},
   "source": [
    "2.4. Сформировать кодовое слово длины n из слова длины k. Внести \n",
    "однократную ошибку в сформированное слово. Вычислить синдром, \n",
    "исправить ошибку с использованием таблицы синдромов. Убедиться \n",
    "в правильности полученного слова."
   ]
  },
  {
   "cell_type": "code",
   "execution_count": 6,
   "metadata": {},
   "outputs": [
    {
     "name": "stdout",
     "output_type": "stream",
     "text": [
      "Ошибку успешно исправлено.\n",
      "Исходное кодовое слово: [1. 0. 1. 1. 0. 1. 0.]\n",
      "Кодовое слово с ошибкой: [1. 0. 0. 1. 0. 1. 0.]\n",
      "Исправленное кодовое слово: [1. 0. 1. 1. 0. 1. 0.]\n"
     ]
    }
   ],
   "source": [
    "\n",
    "word = np.array([1, 0, 1, 1])\n",
    "\n",
    "# Формируем кодовое слово длины n\n",
    "code_word = np.dot(word, G) % 2\n",
    "\n",
    "# Вносим однократную ошибку\n",
    "error_index = 2  # Индекс бита, в который вносим ошибку\n",
    "code_word_with_error = code_word.copy()\n",
    "code_word_with_error[error_index] = (code_word_with_error[error_index] + 1) % 2\n",
    "\n",
    "# Вычисляем синдром\n",
    "syndrome = np.dot(code_word_with_error, H) % 2\n",
    "\n",
    "# Исправляем ошибку, используя таблицу синдромов\n",
    "corrected_code_word = None\n",
    "if tuple(syndrome) in syndrome_map:\n",
    "    corrected_code_word = code_word_with_error.copy()\n",
    "    for i, bit in enumerate(syndrome_map[tuple(syndrome)]):\n",
    "        corrected_code_word[i] = (corrected_code_word[i] + bit) % 2\n",
    "else:\n",
    "    print(\"Ошибка не может быть исправлена.\")\n",
    "\n",
    "# Убеждаемся в правильности полученного слова\n",
    "if np.array_equal(code_word, corrected_code_word):\n",
    "    print(\"Ошибку успешно исправлено.\")\n",
    "else:\n",
    "    print(\"Ошибка не была исправлена.\")\n",
    "\n",
    "print(\"Исходное кодовое слово:\", code_word)\n",
    "print(\"Кодовое слово с ошибкой:\", code_word_with_error)\n",
    "print(\"Исправленное кодовое слово:\", corrected_code_word)"
   ]
  },
  {
   "cell_type": "markdown",
   "metadata": {},
   "source": [
    "2.5. Сформировать кодовое слово длины n из слова длины k. Внести \n",
    "двукратную ошибку в сформированное слово. Вычислить синдром, \n",
    "исправить  ошибку  с  использованием  таблицы  синдромов. \n",
    "Убедиться, что полученное слово отличается от отправленного. "
   ]
  },
  {
   "cell_type": "code",
   "execution_count": 7,
   "metadata": {},
   "outputs": [
    {
     "name": "stdout",
     "output_type": "stream",
     "text": [
      "Ошибка не была исправлена.\n",
      "Исходное кодовое слово: [0. 0. 0. 0. 0. 0. 0.]\n",
      "Кодовое слово с ошибками: [0. 0. 1. 0. 1. 0. 0.]\n",
      "Исправленное кодовое слово: [0. 0. 1. 1. 1. 0. 0.]\n"
     ]
    }
   ],
   "source": [
    "# Задаем кодовое слово длины k\n",
    "word = np.array([0, 0, 0, 0])\n",
    "\n",
    "# Формируем кодовое слово длины n\n",
    "code_word = np.dot(word, G) % 2\n",
    "\n",
    "# Вносим двукратную ошибку\n",
    "error_index_1 = 2  # Индекс первого бита, в который вносим ошибку\n",
    "error_index_2 = 4  # Индекс второго бита, в который вносим ошибку\n",
    "code_word_with_error = code_word.copy()\n",
    "code_word_with_error[error_index_1] = (code_word_with_error[error_index_1] + 1) % 2\n",
    "code_word_with_error[error_index_2] = (code_word_with_error[error_index_2] + 1) % 2\n",
    "\n",
    "# Вычисляем синдром\n",
    "syndrome = np.dot(code_word_with_error, H) % 2\n",
    "\n",
    "# Исправляем ошибку, используя таблицу синдромов\n",
    "corrected_code_word = None\n",
    "if tuple(syndrome) in syndrome_map:\n",
    "    corrected_code_word = code_word_with_error.copy()\n",
    "    for i, bit in enumerate(syndrome_map[tuple(syndrome)]):\n",
    "        corrected_code_word[i] = (corrected_code_word[i] + bit) % 2\n",
    "else:\n",
    "    print(\"Ошибка не может быть исправлена.\")\n",
    "\n",
    "# Убеждаемся, что полученное слово отличается от отправленного\n",
    "if np.array_equal(code_word, corrected_code_word):\n",
    "    print(\"Ошибки успешно исправлены.\")\n",
    "else:\n",
    "    print(\"Ошибка не была исправлена.\")\n",
    "\n",
    "print(\"Исходное кодовое слово:\", code_word)\n",
    "print(\"Кодовое слово с ошибками:\", code_word_with_error)\n",
    "print(\"Исправленное кодовое слово:\", corrected_code_word)"
   ]
  },
  {
   "cell_type": "markdown",
   "metadata": {},
   "source": [
    "2.6. Сформировать порождающую матрицу линейного кода (n, k, 5).  \n",
    "Подсказка 4: \n",
    "Чтобы d  было равно пяти, необходимо, чтобы  в  матрице X  (без учёта \n",
    "единичной матрицы слева):\n",
    "* было не меньше 4 единиц в каждой строке; \n",
    "* сумма любых двух строк содержала не менее 3 единиц; \n",
    "* сумма любых трёх строк содержала не менее 2 единиц; \n",
    "* сумма любых четырёх строк содержала не менее 1 единицы; "
   ]
  },
  {
   "cell_type": "code",
   "execution_count": 8,
   "metadata": {},
   "outputs": [
    {
     "name": "stdout",
     "output_type": "stream",
     "text": [
      "sdd\n",
      "sdd\n"
     ]
    }
   ],
   "source": [
    "def generate_G(n, k):\n",
    "    # Создаем матрицу размером (n-k) x n, состоящую из нулей\n",
    "    X = np.zeros((n-k, n), dtype=int)\n",
    "\n",
    "    while True:\n",
    "        all_conditions_is_valid = True\n",
    "\n",
    "        print(\"sdd\")\n",
    "        # Заполняем матрицу X наугад\n",
    "        for i in range(n - k):\n",
    "            for j in range(n):\n",
    "                print(\"sdd\")\n",
    "                X[i][j] = np.random.choice([0, 1], size=1)\n",
    "        print(\"wwwwww\")\n",
    "        # Проверяем условие\n",
    "        # а) было не меньше 4 единиц в каждой строке;\n",
    "        for  i in range(n - k):\n",
    "            if sum(X[i]) < 4:\n",
    "                all_conditions_is_valid = False\n",
    "        print(\"ddddd   \")\n",
    "        # Условия б, в, г\n",
    "        for i in range(n - k):\n",
    "            for j in range(i + 1, n - k):\n",
    "                print(((X[i] + X[j]) % 2))\n",
    "                if sum((X[i] + X[j]) % 2) < 3:\n",
    "                    all_conditions_is_valid = False\n",
    "                for v in range(j + 1, n - k):\n",
    "                    if sum((X[i] + X[j] + X[v]) % 2) < 2:\n",
    "                        all_conditions_is_valid = False\n",
    "                    for m in range(v + 1, n - k):\n",
    "                        if sum((X[i] + X[j] + X[v] + X[m]) % 2) < 1:\n",
    "                            all_conditions_is_valid = False\n",
    "        if all_conditions_is_valid:\n",
    "            return np.hstack((np.eye(n-k, dtype=int), X))\n",
    "\n",
    "n = 11\n",
    "k = 6\n",
    "\n",
    "G = generate_G(n, k)\n",
    "print('G = \\n',G)\n"
   ]
  },
  {
   "cell_type": "markdown",
   "metadata": {},
   "source": [
    "2.7 Сформировать проверочную матрицу на основе порождающей. "
   ]
  },
  {
   "cell_type": "code",
   "execution_count": null,
   "metadata": {},
   "outputs": [],
   "source": []
  }
 ],
 "metadata": {
  "kernelspec": {
   "display_name": "Python 3",
   "language": "python",
   "name": "python3"
  },
  "language_info": {
   "codemirror_mode": {
    "name": "ipython",
    "version": 3
   },
   "file_extension": ".py",
   "mimetype": "text/x-python",
   "name": "python",
   "nbconvert_exporter": "python",
   "pygments_lexer": "ipython3",
   "version": "3.10.2"
  },
  "orig_nbformat": 4
 },
 "nbformat": 4,
 "nbformat_minor": 2
}
